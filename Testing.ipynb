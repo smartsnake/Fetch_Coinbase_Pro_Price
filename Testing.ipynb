{
 "cells": [
  {
   "cell_type": "code",
   "execution_count": 1,
   "metadata": {},
   "outputs": [],
   "source": [
    "import cbpro\n",
    "from pymongo import MongoClient\n",
    "from datetime import datetime\n",
    "import time\n",
    "from os import path\n",
    "import json"
   ]
  },
  {
   "cell_type": "code",
   "execution_count": 2,
   "metadata": {},
   "outputs": [
    {
     "name": "stdout",
     "output_type": "stream",
     "text": [
      "{'mongo_url': 'localhost', 'mongo_port': '27017', 'database': 'Coinbase_Pro', 'collection': 'BTC_USD', 'end_file': 'program.end', 'currency': 'BTC-USD'}\n"
     ]
    }
   ],
   "source": [
    "with open('config.json') as json_data_file:\n",
    "    data = json.load(json_data_file)\n",
    "print(data)"
   ]
  },
  {
   "cell_type": "code",
   "execution_count": 3,
   "metadata": {},
   "outputs": [],
   "source": [
    "public_client = cbpro.PublicClient()\n",
    "client = MongoClient(data['mongo_url'], int(data['mongo_port']))"
   ]
  },
  {
   "cell_type": "code",
   "execution_count": 4,
   "metadata": {},
   "outputs": [],
   "source": [
    "db = client[data['database']]"
   ]
  },
  {
   "cell_type": "code",
   "execution_count": 5,
   "metadata": {},
   "outputs": [],
   "source": [
    "collection = db[data['collection']]"
   ]
  },
  {
   "cell_type": "code",
   "execution_count": 6,
   "metadata": {},
   "outputs": [
    {
     "name": "stdout",
     "output_type": "stream",
     "text": [
      "{'open': '7275.45000000', 'high': '7346.00000000', 'low': '7251.13000000', 'volume': '3949.16528862', 'last': '7293.00000000', 'volume_30day': '257645.8525699', 'timestamp': 1577587407.161195}\n",
      "{'open': '7275.01000000', 'high': '7346.00000000', 'low': '7251.13000000', 'volume': '3949.11154452', 'last': '7293.00000000', 'volume_30day': '257644.41275001', 'timestamp': 1577587467.294058}\n",
      "{'open': '7281.50000000', 'high': '7346.00000000', 'low': '7251.13000000', 'volume': '3949.18231705', 'last': '7293.00000000', 'volume_30day': '257650.03215176', 'timestamp': 1577587527.359118}\n"
     ]
    }
   ],
   "source": [
    "while(not path.exists(data['end_file'])):\n",
    "    now = datetime.now()\n",
    "    timestamp = datetime.timestamp(now)\n",
    "    Doc = public_client.get_product_24hr_stats(data['currency'])\n",
    "    Doc.update({'timestamp' : timestamp})\n",
    "    print(Doc)\n",
    "    collection.insert_one(Doc)\n",
    "    time.sleep(60)"
   ]
  },
  {
   "cell_type": "code",
   "execution_count": null,
   "metadata": {},
   "outputs": [],
   "source": []
  },
  {
   "cell_type": "code",
   "execution_count": null,
   "metadata": {},
   "outputs": [],
   "source": []
  }
 ],
 "metadata": {
  "kernelspec": {
   "display_name": "Python 3",
   "language": "python",
   "name": "python3"
  },
  "language_info": {
   "codemirror_mode": {
    "name": "ipython",
    "version": 3
   },
   "file_extension": ".py",
   "mimetype": "text/x-python",
   "name": "python",
   "nbconvert_exporter": "python",
   "pygments_lexer": "ipython3",
   "version": "3.7.3"
  }
 },
 "nbformat": 4,
 "nbformat_minor": 2
}
